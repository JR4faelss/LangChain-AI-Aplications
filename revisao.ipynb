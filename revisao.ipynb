{
 "cells": [
  {
   "cell_type": "markdown",
   "id": "e2693bca",
   "metadata": {},
   "source": [
    "### **REVISÃO - Chat Abençoado**"
   ]
  },
  {
   "cell_type": "code",
   "execution_count": null,
   "id": "d9490ce8",
   "metadata": {},
   "outputs": [],
   "source": [
    "from langchain_google_genai import GoogleGenerativeAIEmbeddings\n",
    "from langchain_community.vectorstores.faiss import FAISS\n",
    "from langchain_community.document_loaders.pdf import PyPDFLoader\n",
    "from langchain_text_splitters import RecursiveCharacterTextSplitter"
   ]
  },
  {
   "cell_type": "code",
   "execution_count": 3,
   "id": "19ae462f",
   "metadata": {},
   "outputs": [],
   "source": [
    "# Definindo os caminhos dos arquivos PDF\n",
    "caminhos = [\n",
    "    \"C:/Users/joao_/Downloads/Portugues-Catolica-AVM-All-Bible.pdf\",\n",
    "    \"C:/Users/joao_/Downloads/Catecismo-da-Igreja-Catolica.pdf\"\n",
    "]\n",
    "\n",
    "# Carregando os documentos PDF\n",
    "paginas = []\n",
    "for caminho in caminhos:\n",
    "    loader = PyPDFLoader(caminho)\n",
    "    paginas.extend(loader.load())\n",
    "    \n",
    "# Dividindo os documentos em pedaços menores\n",
    "split = RecursiveCharacterTextSplitter(\n",
    "    chunk_size=1000,\n",
    "    chunk_overlap=100,\n",
    "    separators=[\"\\n\\n\", \"\\n\",\".\", \" \", \"\"]\n",
    ")\n",
    "\n",
    "documentos = split.split_documents(paginas)\n",
    "for i, doc in enumerate(documentos):\n",
    "    doc.metadata['source'] = doc.metadata['source'].replace('C:/Users/joao_/Downloads/', '')\n",
    "    doc.metadata['doc_id'] = i"
   ]
  },
  {
   "cell_type": "code",
   "execution_count": 4,
   "id": "405df716",
   "metadata": {},
   "outputs": [],
   "source": [
    "vectorstore = FAISS.from_documents(\n",
    "    documents=documentos,\n",
    "    embedding=GoogleGenerativeAIEmbeddings(model=\"models/embedding-001\")\n",
    ")"
   ]
  },
  {
   "cell_type": "code",
   "execution_count": 33,
   "id": "f0dd6eeb",
   "metadata": {},
   "outputs": [],
   "source": [
    "# Importando o modelo de chat e criando a cadeia de perguntas e respostas\n",
    "\n",
    "from langchain_google_genai.chat_models import ChatGoogleGenerativeAI\n",
    "from langchain.chains.retrieval_qa.base import RetrievalQA\n",
    "\n",
    "chat = ChatGoogleGenerativeAI(model='gemini-2.0-flash')\n",
    "\n",
    "chat_chain = RetrievalQA.from_chain_type(\n",
    "    llm=chat, \n",
    "    retriever=vectorstore.as_retriever(search_type=\"mmr\"),\n",
    "    chain_type=\"stuff\"\n",
    ")"
   ]
  },
  {
   "cell_type": "code",
   "execution_count": 34,
   "id": "79d78a11",
   "metadata": {},
   "outputs": [],
   "source": [
    "from langchain.prompts import ChatPromptTemplate\n",
    "from langchain.globals import set_debug\n",
    "\n",
    "prompt_template = ChatPromptTemplate.from_template(\n",
    "    \"Você é um especialista em teologia católica. Responda a pergunta com base nos documentos fornecidos: {query}\"\n",
    ")"
   ]
  },
  {
   "cell_type": "code",
   "execution_count": 36,
   "id": "7d82df14",
   "metadata": {},
   "outputs": [
    {
     "name": "stdout",
     "output_type": "stream",
     "text": [
      "O Catecismo da Igreja Católica diz que a Eucaristia é um sacrifício de acção de graças ao Pai, uma bênção pela qual a Igreja exprime o seu reconhecimento a Deus por todos os seus benefícios, por tudo o que Ele fez mediante a criação, a redenção e a santificação. Eucaristia significa, antes de mais, «acção de graças».\n",
      "Os sacramentos da nova Lei foram instituídos por Cristo e são em número de sete, a saber: o Baptismo, a Confirmação, a Eucaristia, a Penitência, a Unção dos Enfermos, a Ordem e o Matrimónio.\n",
      "Pela celebração eucarística, unimo-nos desde já à Liturgia do céu e antecipamos a vida eterna, quando «Deus for tudo em todos».\n",
      "Em síntese, a Eucaristia é o resumo e a súmula da nossa fé: «A nossa maneira de pensar está de acordo com a Eucaristia: e, por sua vez, a Eucaristia confirma a nossa maneira de pensar».\n"
     ]
    }
   ],
   "source": [
    "pergunta = \"O que o Catecismo da Igreja Católica diz sobre a Eucaristia?\"\n",
    "resposta = chat_chain.invoke({'query': pergunta})\n",
    "print(resposta['result'])"
   ]
  },
  {
   "cell_type": "code",
   "execution_count": null,
   "id": "4259579b",
   "metadata": {},
   "outputs": [],
   "source": []
  }
 ],
 "metadata": {
  "kernelspec": {
   "display_name": "Python 3",
   "language": "python",
   "name": "python3"
  },
  "language_info": {
   "codemirror_mode": {
    "name": "ipython",
    "version": 3
   },
   "file_extension": ".py",
   "mimetype": "text/x-python",
   "name": "python",
   "nbconvert_exporter": "python",
   "pygments_lexer": "ipython3",
   "version": "3.11.9"
  }
 },
 "nbformat": 4,
 "nbformat_minor": 5
}
